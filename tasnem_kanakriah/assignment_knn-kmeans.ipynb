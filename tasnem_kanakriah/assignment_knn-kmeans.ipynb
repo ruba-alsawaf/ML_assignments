{
 "cells": [
  {
   "cell_type": "markdown",
   "metadata": {},
   "source": [
    "# K-NN"
   ]
  },
  {
   "cell_type": "code",
   "execution_count": 1,
   "metadata": {},
   "outputs": [],
   "source": [
    "import numpy as np\n",
    "import pandas as pd\n",
    "from sklearn.decomposition import PCA\n",
    "from category_encoders import OrdinalEncoder \n",
    "from sklearn.model_selection import train_test_split\n",
    "from sklearn.neighbors import KNeighborsClassifier\n",
    "import matplotlib.pyplot as plt"
   ]
  },
  {
   "cell_type": "code",
   "execution_count": 2,
   "metadata": {},
   "outputs": [
    {
     "data": {
      "text/plain": [
       "(129880, 22)"
      ]
     },
     "execution_count": 2,
     "metadata": {},
     "output_type": "execute_result"
    }
   ],
   "source": [
    "df = pd.read_csv('Airline_customer_satisfaction.csv')  # ! URL is : https://www.kaggle.com/datasets/raminhuseyn/airline-customer-satisfaction/data\n",
    "# df.head()\n",
    "df.shape"
   ]
  },
  {
   "cell_type": "code",
   "execution_count": 3,
   "metadata": {},
   "outputs": [
    {
     "data": {
      "text/plain": [
       "(129487, 22)"
      ]
     },
     "execution_count": 3,
     "metadata": {},
     "output_type": "execute_result"
    }
   ],
   "source": [
    "df.isnull().sum(axis = 0)\n",
    "df = df.dropna()\n",
    "df.isnull().sum(axis = 0)\n",
    "df.shape"
   ]
  },
  {
   "cell_type": "code",
   "execution_count": 4,
   "metadata": {},
   "outputs": [
    {
     "data": {
      "text/plain": [
       "(129487, 18)"
      ]
     },
     "execution_count": 4,
     "metadata": {},
     "output_type": "execute_result"
    }
   ],
   "source": [
    "df = df.drop(['Flight Distance', 'Departure/Arrival time convenient', 'Departure Delay in Minutes', 'Arrival Delay in Minutes'], axis=1)\n",
    "# df.head()\n",
    "df.shape"
   ]
  },
  {
   "cell_type": "code",
   "execution_count": 5,
   "metadata": {},
   "outputs": [],
   "source": [
    "columns_encode = ['satisfaction', 'Customer Type', 'Type of Travel', 'Class']\n",
    "encoder = OrdinalEncoder(cols=columns_encode)\n",
    "encoded_data = encoder.fit_transform(df)\n",
    "# print(encoded_data)"
   ]
  },
  {
   "cell_type": "code",
   "execution_count": 6,
   "metadata": {},
   "outputs": [
    {
     "name": "stdout",
     "output_type": "stream",
     "text": [
      "(2000, 17)\n",
      "(2000,)\n"
     ]
    }
   ],
   "source": [
    "X = encoded_data.drop('Class', axis=1).sample(n=2000, random_state=34)\n",
    "print(X.shape)\n",
    "\n",
    "Y = encoded_data['Class'].sample(n=2000, random_state=34)\n",
    "print(Y.shape)"
   ]
  },
  {
   "cell_type": "code",
   "execution_count": 7,
   "metadata": {},
   "outputs": [],
   "source": [
    "# pca = PCA(n_components=10)\n",
    "# reduced_data = pca.fit_transform(X)\n",
    "# print(reduced_data)"
   ]
  },
  {
   "cell_type": "code",
   "execution_count": 8,
   "metadata": {},
   "outputs": [],
   "source": [
    "def zscore_normalize_features(X):\n",
    "    mu     = np.mean(X, axis=0)                 \n",
    "    sigma  = np.std(X, axis=0)                  \n",
    "    X_norm = (X - mu) / sigma      \n",
    "    return (X_norm, mu, sigma)"
   ]
  },
  {
   "cell_type": "code",
   "execution_count": 9,
   "metadata": {},
   "outputs": [
    {
     "name": "stdout",
     "output_type": "stream",
     "text": [
      "        satisfaction  Customer Type       Age  Type of Travel  Seat comfort  \\\n",
      "11899       1.061913      -0.490607 -1.317395       -1.488433     -0.600447   \n",
      "103887      1.061913      -0.490607  0.468052        0.671847      0.858719   \n",
      "81920       1.061913      -0.490607  0.864818        0.671847      0.129136   \n",
      "59874       1.061913       2.038293 -1.052885        0.671847      0.858719   \n",
      "6143        1.061913      -0.490607 -1.846416       -1.488433     -1.330030   \n",
      "...              ...            ...       ...             ...           ...   \n",
      "53023       1.061913       2.038293 -1.185140        0.671847      0.129136   \n",
      "52772       1.061913       2.038293  0.005158        0.671847      0.129136   \n",
      "110924      1.061913      -0.490607 -0.060970        0.671847      1.588302   \n",
      "113089     -0.941697      -0.490607  0.732562        0.671847      1.588302   \n",
      "58007       1.061913       2.038293  0.071286        0.671847      0.858719   \n",
      "\n",
      "        Food and drink  Gate location  Inflight wifi service  \\\n",
      "11899        -2.009407      -1.550285               0.555767   \n",
      "103887       -1.306079      -1.550285              -0.201409   \n",
      "81920         1.507231       1.544096              -0.201409   \n",
      "59874         0.803903      -0.003094              -1.715759   \n",
      "6143         -1.306079      -1.550285               0.555767   \n",
      "...                ...            ...                    ...   \n",
      "53023         0.100576      -0.776690               0.555767   \n",
      "52772         0.100576      -0.776690              -0.201409   \n",
      "110924        0.100576      -0.003094               0.555767   \n",
      "113089        1.507231       1.544096              -0.958584   \n",
      "58007         0.100576      -0.003094              -0.958584   \n",
      "\n",
      "        Inflight entertainment  Online support  Ease of Online booking  \\\n",
      "11899                -2.518244       -0.425528                0.399593   \n",
      "103887                0.467226        0.348863                0.399593   \n",
      "81920                -0.279141       -0.425528               -0.374062   \n",
      "59874                 0.467226       -1.974311               -1.921371   \n",
      "6143                 -1.771877        0.348863                0.399593   \n",
      "...                        ...             ...                     ...   \n",
      "53023                -0.279141        0.348863                0.399593   \n",
      "52772                -0.279141       -1.974311               -0.374062   \n",
      "110924               -0.279141        0.348863                1.173247   \n",
      "113089                1.213594        0.348863                1.173247   \n",
      "58007                -0.279141        1.123255               -1.147717   \n",
      "\n",
      "        On-board service  Leg room service  Baggage handling  Checkin service  \\\n",
      "11899           0.436834         -0.413301          1.145040         1.358966   \n",
      "103887          0.436834          0.375441          0.278242        -0.213456   \n",
      "81920          -0.343227         -1.990784         -0.588556        -0.213456   \n",
      "59874           1.216895         -1.990784          1.145040         1.358966   \n",
      "6143            0.436834          0.375441          1.145040        -0.213456   \n",
      "...                  ...               ...               ...              ...   \n",
      "53023           0.436834          0.375441          0.278242         0.572755   \n",
      "52772           1.216895         -0.413301         -0.588556         0.572755   \n",
      "110924          1.216895          0.375441          1.145040        -0.999668   \n",
      "113089          1.216895          1.164183          0.278242         1.358966   \n",
      "58007           0.436834         -0.413301         -0.588556        -1.785879   \n",
      "\n",
      "        Cleanliness  Online boarding  \n",
      "11899      0.297318         0.485771  \n",
      "103887     0.297318        -1.068697  \n",
      "81920     -1.421283        -0.291463  \n",
      "59874      1.156619        -1.845931  \n",
      "6143       1.156619         0.485771  \n",
      "...             ...              ...  \n",
      "53023      1.156619         0.485771  \n",
      "52772      1.156619        -0.291463  \n",
      "110924     1.156619        -0.291463  \n",
      "113089     1.156619         0.485771  \n",
      "58007     -0.561983        -1.068697  \n",
      "\n",
      "[2000 rows x 17 columns]\n"
     ]
    }
   ],
   "source": [
    "X_norm, mu, sigma = zscore_normalize_features(X)\n",
    "X_mean = (X - mu)   \n",
    "print(X_norm) "
   ]
  },
  {
   "cell_type": "code",
   "execution_count": 10,
   "metadata": {},
   "outputs": [
    {
     "name": "stdout",
     "output_type": "stream",
     "text": [
      "(1400, 17) (600, 17) (1400,) (600,)\n"
     ]
    }
   ],
   "source": [
    "X_train, X_test, Y_train, Y_test = train_test_split(X_norm, Y, test_size=0.3, random_state=60)\n",
    "print(X_train.shape, X_test.shape, Y_train.shape, Y_test.shape)"
   ]
  },
  {
   "cell_type": "code",
   "execution_count": 11,
   "metadata": {},
   "outputs": [],
   "source": [
    "K = [] \n",
    "training = [] \n",
    "test = [] \n",
    "scores = {} \n",
    "\n",
    "for k in range(0, 21) :\n",
    "\tclf = KNeighborsClassifier(n_neighbors = k*2+1)\n",
    "\tclf.fit(X_train, Y_train)\n",
    "\n",
    "\ttraining_score = clf.score(X_train, Y_train)\n",
    "\ttest_score = clf.score(X_test, Y_test)\n",
    "\tK.append(k)\n",
    "\n",
    "\ttraining.append(training_score)\n",
    "\ttest.append(test_score)\n",
    "\tscores[k] = [training_score, test_score]"
   ]
  },
  {
   "cell_type": "code",
   "execution_count": 12,
   "metadata": {},
   "outputs": [
    {
     "name": "stdout",
     "output_type": "stream",
     "text": [
      "0 : [1.0, 0.6916666666666667]\n",
      "1 : [0.855, 0.745]\n",
      "2 : [0.8242857142857143, 0.7683333333333333]\n",
      "3 : [0.8128571428571428, 0.7733333333333333]\n",
      "4 : [0.8078571428571428, 0.7716666666666666]\n",
      "5 : [0.805, 0.7733333333333333]\n",
      "6 : [0.805, 0.77]\n",
      "7 : [0.7992857142857143, 0.7683333333333333]\n",
      "8 : [0.8021428571428572, 0.7666666666666667]\n",
      "9 : [0.795, 0.7666666666666667]\n",
      "10 : [0.7942857142857143, 0.765]\n",
      "11 : [0.7878571428571428, 0.7683333333333333]\n",
      "12 : [0.7785714285714286, 0.7666666666666667]\n",
      "13 : [0.7785714285714286, 0.7666666666666667]\n",
      "14 : [0.7735714285714286, 0.7583333333333333]\n",
      "15 : [0.7742857142857142, 0.7616666666666667]\n",
      "16 : [0.7735714285714286, 0.7616666666666667]\n",
      "17 : [0.7692857142857142, 0.755]\n",
      "18 : [0.77, 0.75]\n",
      "19 : [0.7657142857142857, 0.7483333333333333]\n",
      "20 : [0.7621428571428571, 0.75]\n"
     ]
    }
   ],
   "source": [
    "for keys, values in scores.items():\n",
    "    print(keys, ':', values)"
   ]
  },
  {
   "cell_type": "code",
   "execution_count": 13,
   "metadata": {},
   "outputs": [
    {
     "data": {
      "image/png": "[encoded data removed]",
      "text/plain": [
       "<Figure size 640x480 with 1 Axes>"
      ]
     },
     "metadata": {},
     "output_type": "display_data"
    },
    {
     "data": {
      "image/png": "[encoded data removed]",
      "text/plain": [
       "<Figure size 640x480 with 1 Axes>"
      ]
     },
     "metadata": {},
     "output_type": "display_data"
    },
    {
     "data": {
      "image/png": "[encoded data removed]",
      "text/plain": [
       "<Figure size 640x480 with 1 Axes>"
      ]
     },
     "metadata": {},
     "output_type": "display_data"
    }
   ],
   "source": [
    "# train score.\n",
    "plt.plot(K, training, marker='o', color='purple')\n",
    "plt.xlabel('values of k')\n",
    "plt.ylabel('Training Score')\n",
    "plt.show()\n",
    "\n",
    "# Test score.\n",
    "plt.plot(K, test, marker='o', color='g')\n",
    "plt.xlabel('values of k')\n",
    "plt.ylabel('Test Score')\n",
    "plt.show()\n",
    "\n",
    "# Train score Vs. test score\n",
    "plt.scatter(K, training, color='purple')\n",
    "plt.scatter(K, test, color='g')\n",
    "plt.show()"
   ]
  },
  {
   "cell_type": "markdown",
   "metadata": {},
   "source": [
    "# K-MEANS"
   ]
  },
  {
   "cell_type": "code",
   "execution_count": 14,
   "metadata": {},
   "outputs": [],
   "source": [
    "import pandas as pd\n",
    "import numpy as np\n",
    "from sklearn.decomposition import PCA\n",
    "from sklearn.cluster import KMeans\n",
    "import matplotlib.pyplot as plt\n",
    "from category_encoders import OrdinalEncoder \n",
    "from sklearn.model_selection import train_test_split"
   ]
  },
  {
   "cell_type": "code",
   "execution_count": 15,
   "metadata": {},
   "outputs": [
    {
     "data": {
      "text/plain": [
       "(129880, 22)"
      ]
     },
     "execution_count": 15,
     "metadata": {},
     "output_type": "execute_result"
    }
   ],
   "source": [
    "df = pd.read_csv('Airline_customer_satisfaction.csv')  # ! URL is : https://www.kaggle.com/datasets/raminhuseyn/airline-customer-satisfaction/data\n",
    "# df.head()\n",
    "df.shape"
   ]
  },
  {
   "cell_type": "code",
   "execution_count": 16,
   "metadata": {},
   "outputs": [
    {
     "data": {
      "text/plain": [
       "(129487, 22)"
      ]
     },
     "execution_count": 16,
     "metadata": {},
     "output_type": "execute_result"
    }
   ],
   "source": [
    "df.isnull().sum(axis = 0)\n",
    "df = df.dropna()\n",
    "df.isnull().sum(axis = 0)\n",
    "df.shape"
   ]
  },
  {
   "cell_type": "code",
   "execution_count": 17,
   "metadata": {},
   "outputs": [
    {
     "data": {
      "text/plain": [
       "(129487, 18)"
      ]
     },
     "execution_count": 17,
     "metadata": {},
     "output_type": "execute_result"
    }
   ],
   "source": [
    "df = df.drop(['Flight Distance', 'Departure/Arrival time convenient', 'Departure Delay in Minutes', 'Arrival Delay in Minutes'], axis=1)\n",
    "# df.head()\n",
    "df.shape"
   ]
  },
  {
   "cell_type": "code",
   "execution_count": 18,
   "metadata": {},
   "outputs": [],
   "source": [
    "columns_encode = ['satisfaction', 'Customer Type', 'Type of Travel', 'Class']\n",
    "encoder = OrdinalEncoder(cols=columns_encode)\n",
    "encoded_data = encoder.fit_transform(df)\n",
    "# print(encoded_data)"
   ]
  },
  {
   "cell_type": "code",
   "execution_count": 19,
   "metadata": {},
   "outputs": [
    {
     "name": "stdout",
     "output_type": "stream",
     "text": [
      "(2000, 17)\n",
      "(2000,)\n"
     ]
    }
   ],
   "source": [
    "X = encoded_data.drop('Class', axis=1).sample(n=2000, random_state=34)\n",
    "print(X.shape)\n",
    "\n",
    "Y = encoded_data['Class'].sample(n=2000, random_state=34)\n",
    "print(Y.shape)"
   ]
  },
  {
   "cell_type": "code",
   "execution_count": 20,
   "metadata": {},
   "outputs": [
    {
     "name": "stdout",
     "output_type": "stream",
     "text": [
      "[[-1.99627163e+01  3.34371902e-01  4.21696635e+00 ... -1.93847739e+00\n",
      "  -2.10416528e-01  1.37916617e+00]\n",
      " [ 7.09557842e+00 -5.16488153e-03  1.31132532e+00 ... -3.08331323e-01\n",
      "   3.07509077e-02  5.93657292e-01]\n",
      " [ 1.30302767e+01  1.75233414e+00 -2.93192567e+00 ...  4.76235614e-01\n",
      "   7.50862824e-01 -1.48293839e-01]\n",
      " ...\n",
      " [-9.01173238e-01 -2.22844170e+00 -3.62481583e-01 ... -2.72689153e-01\n",
      "   3.36202717e-01  3.88938435e-01]\n",
      " [ 1.11539347e+01 -3.43263468e+00 -2.84255650e+00 ...  3.50754965e-01\n",
      "   4.77875954e-01  7.41140275e-01]\n",
      " [ 1.05284778e+00  1.56872874e+00 -1.33159352e+00 ...  1.41626791e+00\n",
      "   1.47122707e+00  9.09415171e-01]]\n"
     ]
    }
   ],
   "source": [
    "pca = PCA(n_components=10)\n",
    "reduced_data = pca.fit_transform(X)\n",
    "print(reduced_data)"
   ]
  },
  {
   "cell_type": "code",
   "execution_count": 21,
   "metadata": {},
   "outputs": [],
   "source": [
    "def zscore_normalize_features(reduced_data):\n",
    "    mu     = np.mean(reduced_data, axis=0)                 \n",
    "    sigma  = np.std(reduced_data, axis=0)                  \n",
    "    X_norm = (reduced_data - mu) / sigma      \n",
    "    return (X_norm, mu, sigma)"
   ]
  },
  {
   "cell_type": "code",
   "execution_count": 22,
   "metadata": {},
   "outputs": [
    {
     "name": "stdout",
     "output_type": "stream",
     "text": [
      "[[-1.31964791e+00  1.35280932e-01  2.09935650e+00 ... -2.13299739e+00\n",
      "  -2.41677477e-01  1.73346400e+00]\n",
      " [ 4.69057673e-01 -2.08961932e-03  6.52824592e-01 ... -3.39271384e-01\n",
      "   3.53194774e-02  7.46163565e-01]\n",
      " [ 8.61374631e-01  7.08963265e-01 -1.45961734e+00 ...  5.24024333e-01\n",
      "   8.62416251e-01 -1.86389456e-01]\n",
      " ...\n",
      " [-5.95726235e-02 -9.01587925e-01 -1.80456281e-01 ... -3.00052636e-01\n",
      "   3.86151341e-01  4.88853912e-01]\n",
      " [ 7.37337863e-01 -1.38878301e+00 -1.41512618e+00 ...  3.85952102e-01\n",
      "   5.48872544e-01  9.31533863e-01]\n",
      " [ 6.95991645e-02  6.34679780e-01 -6.62914826e-01 ...  1.55838586e+00\n",
      "   1.68980284e+00  1.14303736e+00]]\n"
     ]
    }
   ],
   "source": [
    "X_norm, mu, sigma = zscore_normalize_features(reduced_data)\n",
    "X_mean = (reduced_data - mu)   \n",
    "print(X_norm) "
   ]
  },
  {
   "cell_type": "code",
   "execution_count": 23,
   "metadata": {},
   "outputs": [
    {
     "name": "stdout",
     "output_type": "stream",
     "text": [
      "(1400, 10) (600, 10) (1400,) (600,)\n"
     ]
    }
   ],
   "source": [
    "X_train, X_test, Y_train, Y_test = train_test_split(X_norm, Y, test_size=0.3, random_state=60)\n",
    "print(X_train.shape, X_test.shape, Y_train.shape, Y_test.shape)"
   ]
  },
  {
   "cell_type": "code",
   "execution_count": 24,
   "metadata": {},
   "outputs": [
    {
     "data": {
      "image/png": "[encoded data removed]",
      "text/plain": [
       "<Figure size 640x480 with 1 Axes>"
      ]
     },
     "metadata": {},
     "output_type": "display_data"
    }
   ],
   "source": [
    "k_range = range(3, 100)\n",
    "inertia_values = []\n",
    "\n",
    "for k in k_range:\n",
    "\tkmeans = KMeans(n_clusters=k, init='k-means++', random_state=60)\n",
    "\ty_kmeans = kmeans.fit_predict(X_norm)\n",
    "\tinertia_values.append(kmeans.inertia_)\n",
    "\n",
    "plt.plot(k_range, inertia_values, 'bo-')\n",
    "plt.title('Elbow Method')\n",
    "plt.xlabel('Number of clusters (k)')\n",
    "plt.ylabel('Inertia')\n",
    "plt.show()"
   ]
  },
  {
   "cell_type": "code",
   "execution_count": 25,
   "metadata": {},
   "outputs": [],
   "source": [
    "\n",
    "# ! Before 20 on the x axis, the steepness of the slope begins to decrease ! #"
   ]
  }
 ],
 "metadata": {
  "kernelspec": {
   "display_name": "Python 3",
   "language": "python",
   "name": "python3"
  },
  "language_info": {
   "codemirror_mode": {
    "name": "ipython",
    "version": 3
   },
   "file_extension": ".py",
   "mimetype": "text/x-python",
   "name": "python",
   "nbconvert_exporter": "python",
   "pygments_lexer": "ipython3",
   "version": "3.11.9"
  }
 },
 "nbformat": 4,
 "nbformat_minor": 2
}
